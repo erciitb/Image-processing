{
 "cells": [
  {
   "cell_type": "markdown",
   "id": "purple-williams",
   "metadata": {},
   "source": [
    "# Basic Libraries needed\n",
    "- cv2 \n",
    "- numpy: images are stored as numpy array "
   ]
  },
  {
   "cell_type": "code",
   "execution_count": 1,
   "id": "reserved-salad",
   "metadata": {},
   "outputs": [],
   "source": [
    "%matplotlib inline\n",
    "import cv2\n",
    "import numpy as np"
   ]
  },
  {
   "cell_type": "markdown",
   "id": "short-balloon",
   "metadata": {},
   "source": [
    "# Basic Operations\n",
    "|Task     | Command                 | Return                     |\n",
    "|---------|:-----------------------:|---------------------------:|\n",
    "| Reading | `imread(filename, flag)`| image as numpy.ndarray     |\n",
    "| Showing |`imshow(window, image)`  | none                       |\n",
    "| Wait    | `waitKey(time)`         | ASCII code of key pressed  |\n",
    "\n",
    "**IMPORTANT:** While using jupyter notebook ensure that you use the following command after every `imshow`:\n",
    "```python\n",
    "#Wait till key is pressed\n",
    "k=cv2.waitKey(0)\n",
    "#Close all the windows    \n",
    "cv2.destroyAllWindows()\n",
    "```"
   ]
  },
  {
   "cell_type": "code",
   "execution_count": 2,
   "id": "active-frost",
   "metadata": {},
   "outputs": [],
   "source": [
    "#Reading an image(grayscale)\n",
    "image = cv2.imread(\"joker_1.jpg\", 0)"
   ]
  },
  {
   "cell_type": "code",
   "execution_count": 5,
   "id": "incoming-college",
   "metadata": {},
   "outputs": [
    {
     "name": "stdout",
     "output_type": "stream",
     "text": [
      "The loaded image is of type: <class 'numpy.ndarray'>\n",
      "The loaded image is of size: (720, 720)\n"
     ]
    }
   ],
   "source": [
    "#checking type of image\n",
    "print(\"The loaded image is of type:\",type(image))\n",
    "print(\"The loaded image is of size:\",image.shape)"
   ]
  },
  {
   "cell_type": "code",
   "execution_count": 4,
   "id": "organizational-tongue",
   "metadata": {},
   "outputs": [],
   "source": [
    "#Resizing the image because it is huge!\n",
    "image = cv2.resize(image, (720, 720))"
   ]
  },
  {
   "cell_type": "code",
   "execution_count": 6,
   "id": "super-buffer",
   "metadata": {},
   "outputs": [
    {
     "name": "stdout",
     "output_type": "stream",
     "text": [
      "42\n"
     ]
    }
   ],
   "source": [
    "# checking some values?\n",
    "print(image[123][132])"
   ]
  },
  {
   "cell_type": "code",
   "execution_count": 9,
   "id": "nearby-memorial",
   "metadata": {},
   "outputs": [],
   "source": [
    "#Displaying the image\n",
    "cv2.imshow('window', image)\n",
    "#Wait till key is pressed\n",
    "k=cv2.waitKey(0)\n",
    "#Close all the windows    \n",
    "cv2.destroyAllWindows()"
   ]
  },
  {
   "cell_type": "markdown",
   "id": "affecting-animation",
   "metadata": {},
   "source": [
    "# Color Spaces\n",
    "`cv2.split(image)`: split the image into various channels\n",
    "\n",
    "`cv2.cvtColor(src, code)`: convert the `src` depending on the `code`"
   ]
  },
  {
   "cell_type": "code",
   "execution_count": 12,
   "id": "pregnant-devil",
   "metadata": {},
   "outputs": [],
   "source": [
    "image = cv2.imread('joker_1.jpg',1)\n",
    "image = cv2.resize(image,(500, 500))\n",
    "#separating each color. Note the order of colors\n",
    "B,G,R = cv2.split(image)\n",
    "\n",
    "cv2.imshow(\"Showing original\", image)\n",
    "cv2.imshow(\"Blue\", B)\n",
    "cv2.imshow(\"Green\", G)\n",
    "cv2.imshow(\"Red\", R)\n",
    "\n",
    "#Wait till key is pressed\n",
    "k=cv2.waitKey(0)\n",
    "#Close all the windows    \n",
    "cv2.destroyAllWindows()"
   ]
  },
  {
   "cell_type": "code",
   "execution_count": 13,
   "id": "constant-mediterranean",
   "metadata": {},
   "outputs": [],
   "source": [
    "#Converting in hsv\n",
    "# COLOR_<current format>2<new format>\n",
    "hsv = cv2.cvtColor(image, cv2.COLOR_BGR2HSV)\n",
    "#Convering in grayscale\n",
    "gray = cv2.cvtColor(image, cv2.COLOR_BGR2GRAY)"
   ]
  },
  {
   "cell_type": "code",
   "execution_count": 14,
   "id": "entire-health",
   "metadata": {},
   "outputs": [],
   "source": [
    "#showing all the images\n",
    "cv2.imshow(\"Showing original\", image)\n",
    "cv2.imshow(\"Showing hsv\", hsv)\n",
    "cv2.imshow(\"Showing gray\", gray)\n",
    "#Wait till key is pressed\n",
    "k=cv2.waitKey(0)\n",
    "#Close all the windows    \n",
    "cv2.destroyAllWindows()"
   ]
  },
  {
   "cell_type": "markdown",
   "id": "friendly-rehabilitation",
   "metadata": {},
   "source": [
    "# Thresholding\n",
    "![all the commands](https://media.geeksforgeeks.org/wp-content/uploads/20190505162413/Screenshot-4113.png)\n"
   ]
  },
  {
   "cell_type": "code",
   "execution_count": 15,
   "id": "abstract-november",
   "metadata": {},
   "outputs": [],
   "source": [
    "gray = cv2.resize(gray,(500 ,500))\n",
    "\n",
    "#Simple Thresholds\n",
    "ret, thresh1 = cv2.threshold(gray, 127, 255, cv2.THRESH_BINARY)\n",
    "ret, thresh2 = cv2.threshold(gray, 127, 255, cv2.THRESH_BINARY_INV)\n",
    "ret, thresh3 = cv2.threshold(gray, 127, 255, cv2.THRESH_TRUNC)\n",
    "ret, thresh4 = cv2.threshold(gray, 127, 255, cv2.THRESH_TOZERO)\n",
    "ret, thresh5 = cv2.threshold(gray, 127, 255, cv2.THRESH_TOZERO_INV)\n",
    "\n",
    "#Adaptive threshold\n",
    "adaptive_thresh1 = cv2.adaptiveThreshold(gray, 255, cv2.ADAPTIVE_THRESH_MEAN_C, cv2.THRESH_BINARY, 11, 2)\n",
    "adaptive_thresh2 = cv2.adaptiveThreshold(gray, 255, cv2.ADAPTIVE_THRESH_GAUSSIAN_C, cv2.THRESH_BINARY, 11, 2)"
   ]
  },
  {
   "cell_type": "code",
   "execution_count": 16,
   "id": "exact-crack",
   "metadata": {},
   "outputs": [],
   "source": [
    "# Show all the thresholded images\n",
    "cv2.imshow('Gray', gray)\n",
    "cv2.imshow('THRESH_BINARY', thresh1)\n",
    "cv2.imshow('THRESH_BINARY_INV', thresh2)\n",
    "cv2.imshow('THRESH_TRUNC', thresh3)\n",
    "cv2.imshow('THRESH_TOZERO', thresh4)\n",
    "cv2.imshow('THRESH_TOZERO_INV', thresh5)\n",
    "cv2.imshow('ADAPTIVE_MEAN', adaptive_thresh1)\n",
    "cv2.imshow('ADAPTIVE_GAUSSIAN', adaptive_thresh2)\n",
    "\n",
    "#Wait till key is pressed\n",
    "k=cv2.waitKey(0)\n",
    "#Close all the windows    \n",
    "cv2.destroyAllWindows()"
   ]
  },
  {
   "cell_type": "markdown",
   "id": "fatal-doctrine",
   "metadata": {},
   "source": [
    "# Color Detection\n",
    "The hsv image is used to detect the color as all the chromatic information is in one band. "
   ]
  },
  {
   "cell_type": "code",
   "execution_count": 17,
   "id": "limited-fabric",
   "metadata": {},
   "outputs": [
    {
     "data": {
      "text/plain": [
       "array([[[ 60, 255, 255]]], dtype=uint8)"
      ]
     },
     "execution_count": 17,
     "metadata": {},
     "output_type": "execute_result"
    }
   ],
   "source": [
    "# Getting the color values in HSV\n",
    "col = np.uint8([[[0,255,0 ]]])\n",
    "cv2.cvtColor(col, cv2.COLOR_BGR2HSV)"
   ]
  },
  {
   "cell_type": "code",
   "execution_count": 18,
   "id": "parallel-attack",
   "metadata": {},
   "outputs": [],
   "source": [
    "lower = np.array([50,50,50]) #Defining lower range\n",
    "upper = np.array([70, 255, 255]) #Defining upper limit\n",
    "mask = cv2.inRange(hsv, lower, upper) #Using the inRange function to give a binary mask\n",
    "extracted = cv2.bitwise_and(image,image,mask=mask) #applying the mask on the image"
   ]
  },
  {
   "cell_type": "code",
   "execution_count": 20,
   "id": "golden-spain",
   "metadata": {},
   "outputs": [],
   "source": [
    "cv2.imshow(\"Showing mask\", mask)\n",
    "cv2.imshow(\"Showing original\", image)\n",
    "cv2.imshow(\"Showing extracted\", extracted)\n",
    "\n",
    "#Wait till key is pressed\n",
    "k=cv2.waitKey(0)\n",
    "#Close all the windows    \n",
    "cv2.destroyAllWindows()"
   ]
  },
  {
   "cell_type": "markdown",
   "id": "diagnostic-active",
   "metadata": {},
   "source": [
    "# Blur\n",
    "\n",
    "Blurring of an image is done using filters. Depending on the kernel used, the blurring effect is different. \n",
    "\n",
    "Major Blur Filters:\n",
    "1. Box Filters( `cv2.blur(image, size)` )\n",
    "1. Gaussian Filters( `cv2.GaussianBlur(image, size, sigmaX)` )\n",
    "1. Median Filters( `cv2.medianBlur(image, ksize)` )"
   ]
  },
  {
   "cell_type": "code",
   "execution_count": 41,
   "id": "genuine-recommendation",
   "metadata": {},
   "outputs": [],
   "source": [
    "# size \n",
    "kernel = 5\n",
    "\n",
    "#box filter\n",
    "blurred_img_B = cv2.blur(image, (kernel, kernel))\n",
    "#gaussian filter\n",
    "blurred_img_G = cv2.GaussianBlur(image, (kernel, kernel), 0)\n",
    "#median filter\n",
    "blurred_img_M = cv2.medianBlur(image, kernel)\n",
    "cv2.imshow('Original', image)\n",
    "cv2.imshow('Box', blurred_img_B)\n",
    "cv2.imshow('Gaussian', blurred_img_G)\n",
    "cv2.imshow('Median', blurred_img_M)\n",
    "\n",
    "\n",
    "#Wait till key is pressed\n",
    "k=cv2.waitKey(0)\n",
    "#Close all the windows    \n",
    "cv2.destroyAllWindows()"
   ]
  },
  {
   "cell_type": "code",
   "execution_count": 42,
   "id": "toxic-revelation",
   "metadata": {},
   "outputs": [],
   "source": [
    "# some noise experiments\n",
    "\n",
    "#reading in the noisy image and making both image and noise of same size\n",
    "noisy_image = cv2.imread('noisy_apple.jpg',1)\n",
    "image = cv2.imread('apple.jpeg',1)\n",
    "noisy_image = cv2.resize(noisy_image, (500, 500))\n",
    "image = cv2.resize(image,(500, 500))\n",
    "\n",
    "cv2.imshow(\"images\",np.hstack([image, noisy_image]))\n",
    "\n",
    "#Wait till key is pressed\n",
    "k=cv2.waitKey(0)\n",
    "#Close all the windows    \n",
    "cv2.destroyAllWindows()"
   ]
  },
  {
   "cell_type": "code",
   "execution_count": 43,
   "id": "particular-investing",
   "metadata": {},
   "outputs": [],
   "source": [
    "# size \n",
    "kernel = 9\n",
    "\n",
    "#box filter\n",
    "blurred_img_B = cv2.blur(noisy_image, (kernel, kernel), 0)\n",
    "#gaussian filter\n",
    "blurred_img_G = cv2.GaussianBlur(noisy_image, (kernel, kernel), 0)\n",
    "#median filter\n",
    "blurred_img_M = cv2.medianBlur(noisy_image, kernel)\n",
    "cv2.imshow('Original', noisy_image)\n",
    "cv2.imshow('Box', blurred_img_B)\n",
    "cv2.imshow('Gaussian', blurred_img_G)\n",
    "cv2.imshow('Median', blurred_img_M)\n",
    "\n",
    "\n",
    "#Wait till key is pressed\n",
    "k=cv2.waitKey(0)\n",
    "#Close all the windows    \n",
    "cv2.destroyAllWindows()"
   ]
  },
  {
   "cell_type": "code",
   "execution_count": null,
   "id": "reflected-bones",
   "metadata": {},
   "outputs": [],
   "source": []
  }
 ],
 "metadata": {
  "kernelspec": {
   "display_name": "Python 3",
   "language": "python",
   "name": "python3"
  },
  "language_info": {
   "codemirror_mode": {
    "name": "ipython",
    "version": 3
   },
   "file_extension": ".py",
   "mimetype": "text/x-python",
   "name": "python",
   "nbconvert_exporter": "python",
   "pygments_lexer": "ipython3",
   "version": "3.9.1"
  }
 },
 "nbformat": 4,
 "nbformat_minor": 5
}
